{
 "cells": [
  {
   "cell_type": "code",
   "execution_count": null,
   "metadata": {},
   "outputs": [],
   "source": [
    "import os\n",
    "import numpy as np\n",
    "import cv2\n",
    "from skimage.feature import hog\n",
    "from sklearn.model_selection import train_test_split\n",
    "from sklearn.neighbors import KNeighborsClassifier\n",
    "from sklearn.metrics import accuracy_score, recall_score, log_loss\n"
   ]
  },
  {
   "cell_type": "code",
   "execution_count": null,
   "metadata": {},
   "outputs": [],
   "source": [
    "# Define paths\n",
    "base_dir = 'D:\\PKG - C-NMC 2019\\C-NMC_training_data'\n",
    "folds = ['fold_0', 'fold_1', 'fold_2']\n",
    "categories = ['all', 'hem']\n",
    "\n",
    "# Parameters\n",
    "img_width, img_height = 150, 150\n"
   ]
  },
  {
   "cell_type": "code",
   "execution_count": null,
   "metadata": {},
   "outputs": [],
   "source": [
    "def load_images_and_labels(base_dir, folds, categories, img_width, img_height):\n",
    "    images = []\n",
    "    labels = []\n",
    "    for fold in folds:\n",
    "        for category in categories:\n",
    "            category_dir = os.path.join(base_dir, fold, category)\n",
    "            label = 0 if category == 'all' else 1\n",
    "            for filename in os.listdir(category_dir):\n",
    "                img_path = os.path.join(category_dir, filename)\n",
    "                img = cv2.imread(img_path)\n",
    "                if img is not None:\n",
    "                    img = cv2.resize(img, (img_width, img_height))\n",
    "                    images.append(img)\n",
    "                    labels.append(label)\n",
    "    return np.array(images), np.array(labels)\n",
    "\n",
    "# Load images and labels\n",
    "images, labels = load_images_and_labels(base_dir, folds, categories, img_width, img_height)\n"
   ]
  },
  {
   "cell_type": "code",
   "execution_count": null,
   "metadata": {},
   "outputs": [],
   "source": [
    "def extract_hog_features(images):\n",
    "    hog_features = []\n",
    "    for image in images:\n",
    "        feature = hog(image, pixels_per_cell=(8, 8), cells_per_block=(2, 2), multichannel=True)\n",
    "        hog_features.append(feature)\n",
    "    return np.array(hog_features)\n",
    "\n",
    "# Extract HOG features\n",
    "features = extract_hog_features(images)\n"
   ]
  },
  {
   "cell_type": "code",
   "execution_count": null,
   "metadata": {},
   "outputs": [],
   "source": [
    "# Split data into training and validation sets\n",
    "X_train, X_val, y_train, y_val = train_test_split(features, labels, test_size=0.2, random_state=42)\n"
   ]
  },
  {
   "cell_type": "code",
   "execution_count": null,
   "metadata": {},
   "outputs": [],
   "source": [
    "# Define K-Nearest Neighbors (KNN) Classifier\n",
    "knn = KNeighborsClassifier(n_neighbors=5)\n",
    "\n",
    "# Train the KNN classifier\n",
    "knn.fit(X_train, y_train)\n"
   ]
  },
  {
   "cell_type": "code",
   "execution_count": null,
   "metadata": {},
   "outputs": [],
   "source": [
    "# Validate the model\n",
    "y_pred = knn.predict(X_val)\n",
    "y_pred_proba = knn.predict_proba(X_val)\n",
    "\n",
    "# Calculate metrics\n",
    "accuracy = accuracy_score(y_val, y_pred)\n",
    "recall = recall_score(y_val, y_pred)\n",
    "loss = log_loss(y_val, y_pred_proba)\n",
    "\n",
    "print(f'Validation Accuracy: {accuracy:.2f}')\n",
    "print(f'Validation Recall: {recall:.2f}')\n",
    "print(f'Validation Log Loss: {loss:.2f}')\n"
   ]
  }
 ],
 "metadata": {
  "language_info": {
   "name": "python"
  }
 },
 "nbformat": 4,
 "nbformat_minor": 2
}
