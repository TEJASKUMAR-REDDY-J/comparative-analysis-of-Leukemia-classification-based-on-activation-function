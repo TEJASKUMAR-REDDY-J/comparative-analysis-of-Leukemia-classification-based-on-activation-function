{
 "cells": [
  {
   "cell_type": "code",
   "execution_count": 1,
   "metadata": {},
   "outputs": [],
   "source": [
    "import os\n",
    "import numpy as np\n",
    "import cv2\n",
    "from skimage.feature import hog\n",
    "from sklearn.model_selection import train_test_split\n",
    "from sklearn.svm import SVC\n",
    "from sklearn.metrics import accuracy_score, recall_score, log_loss\n",
    "\n",
    "# Define paths\n",
    "base_dir = 'D:\\\\PKG - C-NMC 2019\\\\C-NMC_training_data'\n",
    "folds = ['fold_0', 'fold_1', 'fold_2']\n",
    "categories = ['all', 'hem']\n",
    "\n",
    "# Parameters\n",
    "img_width, img_height = 150, 150\n",
    "\n"
   ]
  },
  {
   "cell_type": "code",
   "execution_count": 2,
   "metadata": {},
   "outputs": [],
   "source": [
    "def check_directory(path):\n",
    "    if not os.path.exists(path):\n",
    "        raise FileNotFoundError(f\"No such file or directory: '{path}'\")\n"
   ]
  },
  {
   "cell_type": "code",
   "execution_count": 3,
   "metadata": {},
   "outputs": [],
   "source": [
    "def load_images_and_labels(base_dir, folds, categories, img_width, img_height):\n",
    "    images = []\n",
    "    labels = []\n",
    "    for fold in folds:\n",
    "        for category in categories:\n",
    "            category_dir = os.path.join(base_dir, fold, category)\n",
    "            check_directory(category_dir)  # Check if the directory exists\n",
    "            label = 0 if category == 'all' else 1\n",
    "            for filename in os.listdir(category_dir):\n",
    "                img_path = os.path.join(category_dir, filename)\n",
    "                img = cv2.imread(img_path)\n",
    "                if img is not None:\n",
    "                    img = cv2.resize(img, (img_width, img_height))\n",
    "                    images.append(img)\n",
    "                    labels.append(label)\n",
    "    return np.array(images), np.array(labels)\n"
   ]
  },
  {
   "cell_type": "code",
   "execution_count": 4,
   "metadata": {},
   "outputs": [],
   "source": [
    "def extract_hog_features(images):\n",
    "    hog_features = []\n",
    "    for image in images:\n",
    "        # Extract HOG features for each color channel (R, G, B)\n",
    "        hog_r = hog(image[:, :, 0], pixels_per_cell=(8, 8), cells_per_block=(2, 2))\n",
    "        hog_g = hog(image[:, :, 1], pixels_per_cell=(8, 8), cells_per_block=(2, 2))\n",
    "        hog_b = hog(image[:, :, 2], pixels_per_cell=(8, 8), cells_per_block=(2, 2))\n",
    "        \n",
    "        # Concatenate HOG features from all three channels\n",
    "        hog_features.append(np.hstack([hog_r, hog_g, hog_b]))\n",
    "    \n",
    "    return np.array(hog_features)\n"
   ]
  },
  {
   "cell_type": "code",
   "execution_count": 5,
   "metadata": {},
   "outputs": [],
   "source": [
    "# Load images and labels\n",
    "images, labels = load_images_and_labels(base_dir, folds, categories, img_width, img_height)\n",
    "\n",
    "# Extract HOG features\n",
    "features = extract_hog_features(images)\n"
   ]
  },
  {
   "cell_type": "code",
   "execution_count": 6,
   "metadata": {},
   "outputs": [],
   "source": [
    "# Split data into training and validation sets\n",
    "X_train, X_val, y_train, y_val = train_test_split(features, labels, test_size=0.2, random_state=42)\n"
   ]
  },
  {
   "cell_type": "code",
   "execution_count": 7,
   "metadata": {},
   "outputs": [],
   "source": [
    "# Define SVM model\n",
    "svm = SVC(probability=True, kernel='linear', random_state=42)\n",
    "\n",
    "# Train the SVM model\n",
    "svm.fit(X_train, y_train)\n"
   ]
  },
  {
   "cell_type": "code",
   "execution_count": null,
   "metadata": {},
   "outputs": [],
   "source": [
    "# Validate the model\n",
    "y_pred = svm.predict(X_val)\n",
    "y_pred_proba = svm.predict_proba(X_val)\n",
    "\n",
    "# Calculate metrics\n",
    "accuracy = accuracy_score(y_val, y_pred)\n",
    "recall = recall_score(y_val, y_pred)\n",
    "loss = log_loss(y_val, y_pred_proba)\n",
    "\n",
    "print(f'Validation Accuracy: {accuracy:.2f}')\n",
    "print(f'Validation Recall: {recall:.2f}')\n",
    "print(f'Validation Log Loss: {loss:.2f}')\n",
    "\n"
   ]
  }
 ],
 "metadata": {
  "kernelspec": {
   "display_name": "tensorflow",
   "language": "python",
   "name": "python3"
  },
  "language_info": {
   "codemirror_mode": {
    "name": "ipython",
    "version": 3
   },
   "file_extension": ".py",
   "mimetype": "text/x-python",
   "name": "python",
   "nbconvert_exporter": "python",
   "pygments_lexer": "ipython3",
   "version": "3.10.13"
  }
 },
 "nbformat": 4,
 "nbformat_minor": 2
}
