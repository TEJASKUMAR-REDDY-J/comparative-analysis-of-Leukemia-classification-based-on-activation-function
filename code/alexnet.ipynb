{
 "cells": [
  {
   "cell_type": "markdown",
   "metadata": {},
   "source": [
    "Converting to single format and training a single model for the same."
   ]
  },
  {
   "cell_type": "code",
   "execution_count": 1,
   "metadata": {},
   "outputs": [],
   "source": [
    "import os\n",
    "import numpy as np\n",
    "from tensorflow.keras.preprocessing.image import ImageDataGenerator\n",
    "from tensorflow.keras.optimizers import Adam\n",
    "from sklearn.metrics import recall_score\n",
    "import tensorflow as tf\n",
    "from tensorflow.keras.applications import ResNet50\n",
    "from tensorflow.keras import layers, models\n"
   ]
  },
  {
   "cell_type": "code",
   "execution_count": 2,
   "metadata": {},
   "outputs": [],
   "source": [
    "# Define paths\n",
    "base_dir = 'D:/PKG - C-NMC 2019/C-NMC_training_data'\n",
    "folds = ['fold_0', 'fold_1', 'fold_2']\n",
    "categories = ['all', 'hem']\n",
    "\n",
    "# Parameters\n",
    "img_width, img_height = 150, 150\n",
    "batch_size = 32\n",
    "epochs = 10\n"
   ]
  },
  {
   "cell_type": "code",
   "execution_count": 3,
   "metadata": {},
   "outputs": [
    {
     "name": "stdout",
     "output_type": "stream",
     "text": [
      "Found 3175 images belonging to 2 classes.\n",
      "Found 352 images belonging to 2 classes.\n",
      "Found 3224 images belonging to 2 classes.\n",
      "Found 357 images belonging to 2 classes.\n",
      "Found 3199 images belonging to 2 classes.\n",
      "Found 354 images belonging to 2 classes.\n"
     ]
    }
   ],
   "source": [
    "# Updated Function to create data generators\n",
    "def create_data_generators(base_dir, folds, categories, img_width, img_height, batch_size, validation_split=0.1):\n",
    "    train_generators = []\n",
    "    val_generators = []\n",
    "    \n",
    "    for fold in folds:\n",
    "        # Directory for current fold\n",
    "        fold_dir = os.path.join(base_dir, fold)\n",
    "        \n",
    "        # Create separate train and validation generators for each fold\n",
    "        train_datagen = ImageDataGenerator(\n",
    "            rescale=1.0/255.0,\n",
    "            rotation_range=20,\n",
    "            width_shift_range=0.2,\n",
    "            height_shift_range=0.2,\n",
    "            shear_range=0.2,\n",
    "            zoom_range=0.2,\n",
    "            horizontal_flip=True,\n",
    "            validation_split=validation_split\n",
    "        )\n",
    "        \n",
    "        train_generator = train_datagen.flow_from_directory(\n",
    "            fold_dir,\n",
    "            target_size=(img_width, img_height),\n",
    "            batch_size=batch_size,\n",
    "            class_mode='binary',  # Assuming binary classification\n",
    "            subset='training'\n",
    "        )\n",
    "        \n",
    "        val_generator = train_datagen.flow_from_directory(\n",
    "            fold_dir,\n",
    "            target_size=(img_width, img_height),\n",
    "            batch_size=batch_size,\n",
    "            class_mode='binary',  # Assuming binary classification\n",
    "            subset='validation'\n",
    "        )\n",
    "        \n",
    "        # Append generators to lists\n",
    "        train_generators.append(train_generator)\n",
    "        val_generators.append(val_generator)\n",
    "    \n",
    "    return train_generators, val_generators\n",
    "\n",
    "# Create data generators\n",
    "train_generators, val_generators = create_data_generators(base_dir, folds, categories, img_width, img_height, batch_size)\n"
   ]
  },
  {
   "cell_type": "code",
   "execution_count": 4,
   "metadata": {},
   "outputs": [
    {
     "name": "stdout",
     "output_type": "stream",
     "text": [
      "Downloading data from https://storage.googleapis.com/tensorflow/keras-applications/resnet/resnet50_weights_tf_dim_ordering_tf_kernels_notop.h5\n",
      "94765736/94765736 [==============================] - 11s 0us/step\n"
     ]
    }
   ],
   "source": [
    "# Define the ResNet model\n",
    "def build_resnet():\n",
    "    base_model = ResNet50(weights='imagenet', include_top=False, input_shape=(img_width, img_height, 3))\n",
    "    x = base_model.output\n",
    "    x = layers.GlobalAveragePooling2D()(x)\n",
    "    x = layers.Dense(1024, activation='relu')(x)\n",
    "    x = layers.Dropout(0.5)(x)\n",
    "    predictions = layers.Dense(1, activation='sigmoid')(x)\n",
    "    \n",
    "    model = models.Model(inputs=base_model.input, outputs=predictions)\n",
    "    \n",
    "    # Freeze the convolutional base\n",
    "    for layer in base_model.layers:\n",
    "        layer.trainable = False\n",
    "    \n",
    "    return model\n",
    "\n",
    "# Build the ResNet model\n",
    "resnet = build_resnet()\n"
   ]
  },
  {
   "cell_type": "code",
   "execution_count": 5,
   "metadata": {},
   "outputs": [],
   "source": [
    "# Compile the model\n",
    "resnet.compile(optimizer=Adam(), loss='binary_crossentropy', metrics=['accuracy'])\n"
   ]
  },
  {
   "cell_type": "code",
   "execution_count": 6,
   "metadata": {},
   "outputs": [
    {
     "name": "stdout",
     "output_type": "stream",
     "text": [
      "Training on fold 0\n",
      "Epoch 1/10\n",
      "99/99 [==============================] - 272s 3s/step - loss: 0.6649 - accuracy: 0.6577 - val_loss: 0.6508 - val_accuracy: 0.6790\n",
      "Epoch 2/10\n",
      "99/99 [==============================] - 224s 2s/step - loss: 0.6529 - accuracy: 0.6621 - val_loss: 0.6309 - val_accuracy: 0.6790\n",
      "Epoch 3/10\n",
      "99/99 [==============================] - 204s 2s/step - loss: 0.6371 - accuracy: 0.6793 - val_loss: 0.6261 - val_accuracy: 0.6790\n",
      "Epoch 4/10\n",
      "99/99 [==============================] - 221s 2s/step - loss: 0.6315 - accuracy: 0.6790 - val_loss: 0.6260 - val_accuracy: 0.6790\n",
      "Epoch 5/10\n",
      "99/99 [==============================] - 286s 3s/step - loss: 0.6313 - accuracy: 0.6802 - val_loss: 0.6260 - val_accuracy: 0.6790\n",
      "Epoch 6/10\n",
      "99/99 [==============================] - 283s 3s/step - loss: 0.6289 - accuracy: 0.6799 - val_loss: 0.6273 - val_accuracy: 0.6790\n",
      "Epoch 7/10\n",
      "99/99 [==============================] - 242s 2s/step - loss: 0.6296 - accuracy: 0.6793 - val_loss: 0.6290 - val_accuracy: 0.6790\n",
      "Epoch 8/10\n",
      "99/99 [==============================] - 263s 3s/step - loss: 0.6305 - accuracy: 0.6787 - val_loss: 0.6256 - val_accuracy: 0.6790\n",
      "Epoch 9/10\n",
      "99/99 [==============================] - 228s 2s/step - loss: 0.6310 - accuracy: 0.6802 - val_loss: 0.6263 - val_accuracy: 0.6790\n",
      "Epoch 10/10\n",
      "99/99 [==============================] - 255s 3s/step - loss: 0.6330 - accuracy: 0.6783 - val_loss: 0.6267 - val_accuracy: 0.6790\n",
      "Training on fold 1\n",
      "Epoch 1/10\n",
      "100/100 [==============================] - 219s 2s/step - loss: 0.6321 - accuracy: 0.6761 - val_loss: 0.6280 - val_accuracy: 0.6761\n",
      "Epoch 2/10\n",
      "100/100 [==============================] - 196s 2s/step - loss: 0.6361 - accuracy: 0.6751 - val_loss: 0.6302 - val_accuracy: 0.6733\n",
      "Epoch 3/10\n",
      "100/100 [==============================] - 215s 2s/step - loss: 0.6333 - accuracy: 0.6736 - val_loss: 0.6293 - val_accuracy: 0.6733\n",
      "Epoch 4/10\n",
      "100/100 [==============================] - 223s 2s/step - loss: 0.6322 - accuracy: 0.6761 - val_loss: 0.6292 - val_accuracy: 0.6733\n",
      "Epoch 5/10\n",
      "100/100 [==============================] - 186s 2s/step - loss: 0.6321 - accuracy: 0.6745 - val_loss: 0.6295 - val_accuracy: 0.6733\n",
      "Epoch 6/10\n",
      "100/100 [==============================] - 230s 2s/step - loss: 0.6303 - accuracy: 0.6770 - val_loss: 0.6300 - val_accuracy: 0.6705\n",
      "Epoch 7/10\n",
      "100/100 [==============================] - 220s 2s/step - loss: 0.6325 - accuracy: 0.6739 - val_loss: 0.6236 - val_accuracy: 0.6790\n",
      "Epoch 8/10\n",
      "100/100 [==============================] - 183s 2s/step - loss: 0.6325 - accuracy: 0.6751 - val_loss: 0.6297 - val_accuracy: 0.6705\n",
      "Epoch 9/10\n",
      "100/100 [==============================] - 188s 2s/step - loss: 0.6329 - accuracy: 0.6742 - val_loss: 0.6258 - val_accuracy: 0.6761\n",
      "Epoch 10/10\n",
      "100/100 [==============================] - 173s 2s/step - loss: 0.6330 - accuracy: 0.6761 - val_loss: 0.6277 - val_accuracy: 0.6733\n",
      "Training on fold 2\n",
      "Epoch 1/10\n",
      "99/99 [==============================] - 196s 2s/step - loss: 0.6203 - accuracy: 0.6909 - val_loss: 0.6148 - val_accuracy: 0.6903\n",
      "Epoch 2/10\n",
      "99/99 [==============================] - 181s 2s/step - loss: 0.6239 - accuracy: 0.6909 - val_loss: 0.6136 - val_accuracy: 0.6932\n",
      "Epoch 3/10\n",
      "99/99 [==============================] - 183s 2s/step - loss: 0.6218 - accuracy: 0.6921 - val_loss: 0.6142 - val_accuracy: 0.6903\n",
      "Epoch 4/10\n",
      "99/99 [==============================] - 195s 2s/step - loss: 0.6196 - accuracy: 0.6937 - val_loss: 0.6136 - val_accuracy: 0.6932\n",
      "Epoch 5/10\n",
      "99/99 [==============================] - 184s 2s/step - loss: 0.6217 - accuracy: 0.6925 - val_loss: 0.6149 - val_accuracy: 0.6903\n",
      "Epoch 6/10\n",
      "99/99 [==============================] - 229s 2s/step - loss: 0.6227 - accuracy: 0.6912 - val_loss: 0.6153 - val_accuracy: 0.6903\n",
      "Epoch 7/10\n",
      "99/99 [==============================] - 196s 2s/step - loss: 0.6199 - accuracy: 0.6928 - val_loss: 0.6119 - val_accuracy: 0.6932\n",
      "Epoch 8/10\n",
      "99/99 [==============================] - 154s 2s/step - loss: 0.6186 - accuracy: 0.6902 - val_loss: 0.6172 - val_accuracy: 0.6903\n",
      "Epoch 9/10\n",
      "99/99 [==============================] - 147s 1s/step - loss: 0.6222 - accuracy: 0.6912 - val_loss: 0.6161 - val_accuracy: 0.6903\n",
      "Epoch 10/10\n",
      "99/99 [==============================] - 140s 1s/step - loss: 0.6217 - accuracy: 0.6906 - val_loss: 0.6124 - val_accuracy: 0.6932\n"
     ]
    }
   ],
   "source": [
    "histories = []  # To store history for each fold\n",
    "\n",
    "for i in range(len(folds)):\n",
    "    print(f\"Training on fold {i}\")\n",
    "    \n",
    "    # Get the generators for this fold\n",
    "    train_generator = train_generators[i]\n",
    "    val_generator = val_generators[i]\n",
    "    \n",
    "    # Train the model for this fold\n",
    "    history = resnet.fit(\n",
    "        train_generator,\n",
    "        steps_per_epoch=train_generator.samples // batch_size,\n",
    "        epochs=epochs,\n",
    "        validation_data=val_generator,\n",
    "        validation_steps=val_generator.samples // batch_size\n",
    "    )\n",
    "    \n",
    "    histories.append(history)  # Store the history for this fold\n"
   ]
  },
  {
   "cell_type": "code",
   "execution_count": 7,
   "metadata": {},
   "outputs": [
    {
     "name": "stdout",
     "output_type": "stream",
     "text": [
      "Evaluating on fold 0\n",
      "11/11 [==============================] - 16s 1s/step\n",
      "Recall for fold 0: 0.0000\n",
      "Accuracy for fold 0: 0.6790\n",
      "Loss for fold 0: 0.6243\n",
      "Evaluating on fold 1\n",
      "12/12 [==============================] - 17s 1s/step\n",
      "Recall for fold 1: 0.0000\n",
      "Accuracy for fold 1: 0.6751\n",
      "Loss for fold 1: 0.6280\n",
      "Evaluating on fold 2\n",
      "12/12 [==============================] - 14s 1s/step\n",
      "Recall for fold 2: 0.0000\n",
      "Accuracy for fold 2: 0.6921\n",
      "Loss for fold 2: 0.6128\n"
     ]
    }
   ],
   "source": [
    "# Function to evaluate model and compute recall, accuracy, and loss\n",
    "def evaluate_model(model, generator):\n",
    "    # Get true labels\n",
    "    y_true = generator.classes\n",
    "    \n",
    "    # Predict probabilities\n",
    "    y_pred_prob = model.predict(generator)\n",
    "    \n",
    "    # Convert probabilities to binary predictions\n",
    "    y_pred_binary = np.round(y_pred_prob).flatten()\n",
    "    \n",
    "    # Calculate recall\n",
    "    recall = recall_score(y_true, y_pred_binary)\n",
    "    \n",
    "    # Calculate accuracy and loss\n",
    "    loss, accuracy = model.evaluate(generator, verbose=0)\n",
    "    \n",
    "    return recall, accuracy, loss\n",
    "\n",
    "# Evaluate on each fold\n",
    "for i in range(len(folds)):\n",
    "    print(f\"Evaluating on fold {i}\")\n",
    "    val_generator = val_generators[i]\n",
    "    recall, accuracy, loss = evaluate_model(resnet, val_generator)\n",
    "    print(f\"Recall for fold {i}: {recall:.4f}\")\n",
    "    print(f\"Accuracy for fold {i}: {accuracy:.4f}\")\n",
    "    print(f\"Loss for fold {i}: {loss:.4f}\")\n"
   ]
  },
  {
   "cell_type": "code",
   "execution_count": 8,
   "metadata": {},
   "outputs": [
    {
     "name": "stdout",
     "output_type": "stream",
     "text": [
      "Model saved as resnet_binary.h5\n"
     ]
    }
   ],
   "source": [
    "# Save the model\n",
    "resnet.save('resnet_binary.h5')\n",
    "print(\"Model saved as resnet_binary.h5\")\n"
   ]
  },
  {
   "cell_type": "code",
   "execution_count": null,
   "metadata": {},
   "outputs": [],
   "source": [
    "# Evaluation on test set (fold_1)\n",
    "test_generator = datagen.flow_from_directory(\n",
    "    os.path.join(base_dir, folds[1]),  # Use fold_1 for testing\n",
    "    target_size=(img_width, img_height),\n",
    "    batch_size=batch_size,\n",
    "    class_mode='binary',  # Assuming binary classification\n",
    "    subset='validation',  # Use 'validation' subset\n",
    "    shuffle=False  # Keep data order to match predictions with labels\n",
    ")\n",
    "\n",
    "# Evaluate the model\n",
    "loss, accuracy = model.evaluate(test_generator)\n",
    "\n",
    "# Predict probabilities for the test set\n",
    "y_pred_prob = model.predict(test_generator)\n",
    "\n",
    "# Convert probabilities to class labels\n",
    "y_pred = (y_pred_prob > 0.5).astype(int)\n",
    "\n",
    "# Extract true labels\n",
    "y_true = test_generator.classes\n",
    "\n",
    "# Calculate recall (sensitivity) using sklearn's recall_score\n",
    "from sklearn.metrics import recall_score\n",
    "\n",
    "recall = recall_score(y_true, y_pred)\n",
    "\n",
    "print(f\"Recall: {recall:.4f}\")\n",
    "print(f\"Test Loss: {loss:.4f}\")\n",
    "print(f\"Test Accuracy: {accuracy:.4f}\")\n"
   ]
  },
  {
   "cell_type": "markdown",
   "metadata": {},
   "source": [
    "Completed the entire process with purely one folder"
   ]
  }
 ],
 "metadata": {
  "kernelspec": {
   "display_name": "base",
   "language": "python",
   "name": "python3"
  },
  "language_info": {
   "codemirror_mode": {
    "name": "ipython",
    "version": 3
   },
   "file_extension": ".py",
   "mimetype": "text/x-python",
   "name": "python",
   "nbconvert_exporter": "python",
   "pygments_lexer": "ipython3",
   "version": "3.10.13"
  }
 },
 "nbformat": 4,
 "nbformat_minor": 2
}
